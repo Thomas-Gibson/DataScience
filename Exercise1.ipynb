{
 "cells": [
  {
   "cell_type": "markdown",
   "id": "cad88733-ca67-4570-ac00-4e38e255ef0a",
   "metadata": {},
   "source": [
    "# Excercise 1\n",
    "\n",
    "This is my first exercise using Jupyter NoteBook.\n",
    "\n",
    "* defines factorial function\n",
    "* calls factorial with value 5\n",
    "* outputs 120"
   ]
  },
  {
   "cell_type": "code",
   "execution_count": 3,
   "id": "f8f3e802-3538-44fb-8e0c-95c1911c8170",
   "metadata": {},
   "outputs": [],
   "source": [
    "def factorial(n):\n",
    "    if n == 0:\n",
    "        return 1\n",
    "    else:\n",
    "        return n * factorial(n - 1)"
   ]
  },
  {
   "cell_type": "code",
   "execution_count": 4,
   "id": "abaaf300-154a-4df1-93ac-afb05bf73b9d",
   "metadata": {},
   "outputs": [
    {
     "data": {
      "text/plain": [
       "120"
      ]
     },
     "execution_count": 4,
     "metadata": {},
     "output_type": "execute_result"
    }
   ],
   "source": [
    "factorial(5)"
   ]
  }
 ],
 "metadata": {
  "kernelspec": {
   "display_name": "Python [conda env:base] *",
   "language": "python",
   "name": "conda-base-py"
  },
  "language_info": {
   "codemirror_mode": {
    "name": "ipython",
    "version": 3
   },
   "file_extension": ".py",
   "mimetype": "text/x-python",
   "name": "python",
   "nbconvert_exporter": "python",
   "pygments_lexer": "ipython3",
   "version": "3.13.5"
  }
 },
 "nbformat": 4,
 "nbformat_minor": 5
}
